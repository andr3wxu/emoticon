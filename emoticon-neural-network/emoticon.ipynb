{
 "cells": [
  {
   "cell_type": "code",
   "execution_count": 31,
   "metadata": {},
   "outputs": [],
   "source": [
    "import numpy as np\n",
    "import matplotlib.pyplot as plt\n",
    "import math\n",
    "import cv2\n",
    "import os\n",
    "from sklearn.model_selection import train_test_split\n",
    "from sklearn.preprocessing import LabelEncoder"
   ]
  },
  {
   "cell_type": "code",
   "execution_count": 32,
   "metadata": {},
   "outputs": [],
   "source": [
    "path = \"./datasets\"\n",
    "classes = os.listdir(path)\n",
    "\n",
    "images = []\n",
    "labels = []\n",
    "\n",
    "for class_ in classes:\n",
    "  class_path = os.path.join(path, class_)\n",
    "  for file in os.listdir(class_path):\n",
    "    img_path = os.path.join(class_path, file)\n",
    "    img = cv2.imread(img_path, cv2.IMREAD_GRAYSCALE)\n",
    "    images.append(img)\n",
    "    labels.append(class_)\n",
    "\n",
    "images = np.array(images) / 255.0\n",
    "\n",
    "label_encoder = LabelEncoder()\n",
    "encoded_labels = label_encoder.fit_transform(labels)\n",
    "\n",
    "X_train, X_test, y_train_temp, y_test = train_test_split(images, encoded_labels, test_size=0.2, random_state=41)\n",
    "y_train = np.zeros((len(y_train_temp), 3))\n",
    "y_train[np.arange(0, len(y_train)), y_train_temp[:len(y_train)]]=1"
   ]
  },
  {
   "cell_type": "code",
   "execution_count": 33,
   "metadata": {},
   "outputs": [],
   "source": [
    "def activation(x,):\n",
    "  return 1/(1 + np.exp(-x))\n",
    "\n",
    "def activation_deriv(x):\n",
    "  return x *(1 - x)"
   ]
  },
  {
   "cell_type": "code",
   "execution_count": 34,
   "metadata": {},
   "outputs": [],
   "source": [
    "def cost(predicted, desired):\n",
    "  return np.average((desired-predicted)**2)"
   ]
  },
  {
   "cell_type": "code",
   "execution_count": 35,
   "metadata": {},
   "outputs": [],
   "source": [
    "class NeuralNetwork() :\n",
    "    def __init__ (self, inum , hnum, onum):\n",
    "        self.inum = inum\n",
    "        self.hnum = hnum\n",
    "        self.onum = onum\n",
    "        self.learning_rate = 0.0125\n",
    "\n",
    "        self.o_weights = np.random.randn(onum,hnum)\n",
    "        self.o_bias = np.zeros([onum,1])\n",
    "        self.h_weights = np.random.randn(hnum,inum)\n",
    "        self.h_bias = np.zeros([hnum,1])\n",
    "        \n",
    "        self.cost = []\n",
    "\n",
    "    def set_params(self,  o_weights, o_bias, h_weights, h_bias):\n",
    "        self.o_weights = o_weights\n",
    "        self.o_bias = o_bias\n",
    "        self.h_weights = h_weights\n",
    "        self.h_bias = h_bias\n",
    "\n",
    "    def train(self, inputs, desired):\n",
    "        h_in = np.dot(self.h_weights, inputs) + self.h_bias\n",
    "        h = activation(h_in)\n",
    "\n",
    "        o_in = np.dot(self.o_weights, h) + self.o_bias\n",
    "        predicted = activation(o_in)\n",
    "\n",
    "        self.o_weights -= 2*(predicted-desired)*activation_deriv(predicted).dot(h.T)*self.learning_rate\n",
    "        self.h_weights -= ((((2*(predicted-desired)*activation_deriv(predicted)).T.dot(self.o_weights)).T*activation_deriv(h)).dot(inputs.T))*self.learning_rate\n",
    "\n",
    "        self.o_bias -= np.sum(2*(predicted-desired)*activation_deriv(predicted), axis=0, keepdims=True) * self.learning_rate\n",
    "        self.h_bias -= np.sum(((2*(predicted-desired)*activation_deriv(predicted)).T.dot(self.o_weights)).T*activation_deriv(h), axis=0, keepdims=True) * self.learning_rate\n",
    "\n",
    "        self.cost.append(cost(predicted, desired))\n",
    "    \n",
    "    def get_cost(self):\n",
    "        return self.cost[len(self.cost) - 1]\n",
    "\n",
    "    def predict(self, inputs):\n",
    "        h_in = np.dot(self.h_weights, inputs) + self.h_bias\n",
    "        h = activation(h_in)\n",
    "\n",
    "        o_in = np.dot(self.o_weights, h) + self.o_bias\n",
    "        predicted = activation(o_in)\n",
    "\n",
    "        predicted = predicted.reshape(1,-1)\n",
    "        predicted = predicted[0]\n",
    "\n",
    "        max = 0\n",
    "        for i in range(len(predicted)):\n",
    "          if predicted[i] > predicted[max]:\n",
    "            max = i\n",
    "\n",
    "        return max"
   ]
  },
  {
   "cell_type": "code",
   "execution_count": 36,
   "metadata": {},
   "outputs": [
    {
     "name": "stdout",
     "output_type": "stream",
     "text": [
      "0.01788394746239851\n",
      "Accuracy is :  39.226519337016576  %\n",
      "0.01830281081582234\n",
      "Accuracy is :  43.0939226519337  %\n",
      "0.02088764738221866\n",
      "Accuracy is :  45.85635359116022  %\n",
      "0.02308893556674321\n",
      "Accuracy is :  49.72375690607735  %\n",
      "0.022985768489144683\n",
      "Accuracy is :  56.9060773480663  %\n",
      "0.0189824908364487\n",
      "Accuracy is :  62.98342541436463  %\n",
      "0.01142129298503395\n",
      "Accuracy is :  65.19337016574586  %\n",
      "0.010070143056177287\n",
      "Accuracy is :  68.50828729281768  %\n",
      "0.009712128898123491\n",
      "Accuracy is :  70.1657458563536  %\n",
      "0.010426595483747135\n",
      "Accuracy is :  72.37569060773481  %\n",
      "0.01014724665017754\n",
      "Accuracy is :  72.92817679558011  %\n",
      "0.009489760500582159\n",
      "Accuracy is :  72.37569060773481  %\n",
      "0.00858018079189809\n",
      "Accuracy is :  73.48066298342542  %\n",
      "0.007542376181269937\n",
      "Accuracy is :  73.48066298342542  %\n",
      "0.006545698122392497\n",
      "Accuracy is :  72.37569060773481  %\n",
      "0.005591473097052522\n",
      "Accuracy is :  74.58563535911603  %\n",
      "0.00490047586657564\n",
      "Accuracy is :  75.13812154696133  %\n",
      "0.004492840184687834\n",
      "Accuracy is :  75.69060773480662  %\n",
      "0.004115597536159217\n",
      "Accuracy is :  75.69060773480662  %\n",
      "0.00381279698009849\n",
      "Accuracy is :  75.69060773480662  %\n",
      "0.0036011194472895997\n",
      "Accuracy is :  75.69060773480662  %\n",
      "0.0034554734474548953\n",
      "Accuracy is :  75.69060773480662  %\n",
      "0.0033537114326608664\n",
      "Accuracy is :  76.24309392265194  %\n",
      "0.0032560021434034623\n",
      "Accuracy is :  75.69060773480662  %\n",
      "0.0031309019390284563\n",
      "Accuracy is :  75.69060773480662  %\n",
      "0.0029838166090765173\n",
      "Accuracy is :  75.69060773480662  %\n",
      "0.0028307523804787763\n",
      "Accuracy is :  76.79558011049724  %\n",
      "0.0026952165445708032\n",
      "Accuracy is :  77.34806629834254  %\n",
      "0.0025758040067502775\n",
      "Accuracy is :  79.55801104972376  %\n",
      "0.002492696622773328\n",
      "Accuracy is :  80.66298342541437  %\n",
      "0.0033256045413215117\n",
      "Accuracy is :  81.21546961325967  %\n",
      "0.003876496411778617\n",
      "Accuracy is :  81.21546961325967  %\n",
      "0.0036274319816595197\n",
      "Accuracy is :  81.21546961325967  %\n",
      "0.003290857813733257\n",
      "Accuracy is :  81.76795580110497  %\n",
      "0.003073874125889305\n",
      "Accuracy is :  82.32044198895028  %\n",
      "0.0029565301620275326\n",
      "Accuracy is :  82.87292817679558  %\n",
      "0.002845216044204004\n",
      "Accuracy is :  83.42541436464089  %\n",
      "0.002715198080499371\n",
      "Accuracy is :  82.87292817679558  %\n",
      "0.002567825942552197\n",
      "Accuracy is :  83.42541436464089  %\n",
      "0.002411403646126681\n",
      "Accuracy is :  83.42541436464089  %\n",
      "0.0022491338963700983\n",
      "Accuracy is :  83.97790055248619  %\n",
      "0.002085737497356692\n",
      "Accuracy is :  83.97790055248619  %\n",
      "0.0019282924755279825\n",
      "Accuracy is :  83.97790055248619  %\n",
      "0.0017847967710441556\n",
      "Accuracy is :  85.0828729281768  %\n",
      "0.0016612923673175219\n",
      "Accuracy is :  85.0828729281768  %\n",
      "0.001558682218285177\n",
      "Accuracy is :  85.0828729281768  %\n",
      "0.0014728977604675465\n",
      "Accuracy is :  85.0828729281768  %\n",
      "0.0013982273926881235\n",
      "Accuracy is :  85.0828729281768  %\n",
      "0.001331044126984277\n",
      "Accuracy is :  85.6353591160221  %\n",
      "0.0012697615382022084\n",
      "Accuracy is :  85.6353591160221  %\n"
     ]
    }
   ],
   "source": [
    "nn=NeuralNetwork(900, 35, 3)\n",
    "\n",
    "def train_predict(iterations):\n",
    "  for i in range(iterations):\n",
    "    for i in range(X_train.shape[0]):\n",
    "      inputs = np.array(X_train[i, :].reshape(-1,1))\n",
    "      desired_output = np.array(y_train[i, :].reshape(-1,1))\n",
    "      nn.train(inputs, desired_output)\n",
    "    print(nn.get_cost())\n",
    "    prediction_list = []\n",
    "    for i in range(X_test.shape[0]): \n",
    "        inputs = np.array(X_test[i].reshape(-1,1))\n",
    "        prediction_list.append(nn.predict(inputs))\n",
    "\n",
    "    correct_counter = 0\n",
    "    for i in range(len(prediction_list)):\n",
    "        \n",
    "        if y_test[i] == prediction_list[i]:\n",
    "            correct_counter+=1\n",
    "\n",
    "    accuracy = correct_counter/len(y_test)\n",
    "\n",
    "    print(\"Accuracy is : \",accuracy*100,\" %\")\n",
    "\n",
    "train_predict(50)"
   ]
  },
  {
   "cell_type": "code",
   "execution_count": 37,
   "metadata": {},
   "outputs": [
    {
     "name": "stdout",
     "output_type": "stream",
     "text": [
      "2\n",
      "3\n",
      "1\n",
      "2\n",
      "3\n",
      "1\n"
     ]
    }
   ],
   "source": [
    "for i in range(2,8):\n",
    "  img_path = './samples/'+str(i)+'.png'\n",
    "  img = cv2.imread(img_path, cv2.IMREAD_GRAYSCALE)\n",
    "  img = np.array(img)/255.0\n",
    "  inputs2 = img.reshape(-1,1)\n",
    "\n",
    "  predicted = nn.predict(inputs2)\n",
    "\n",
    "  print(predicted+1)\n",
    "\n",
    "# img = cv2.threshold(img, 100, 255, cv2.THRESH_BINARY)[1]"
   ]
  },
  {
   "cell_type": "code",
   "execution_count": 38,
   "metadata": {},
   "outputs": [],
   "source": [
    "# np.save(\"./v3_weights/o_weights\", nn.o_weights)\n",
    "# np.save(\"./v3_weights/h_weights\", nn.h_weights)\n",
    "# np.save(\"./v3_weights/o_bias\", nn.o_bias)\n",
    "# np.save(\"./v3_weights/h_bias\", nn.h_bias)"
   ]
  },
  {
   "cell_type": "markdown",
   "metadata": {},
   "source": [
    "# Upload weights"
   ]
  },
  {
   "cell_type": "code",
   "execution_count": 39,
   "metadata": {},
   "outputs": [],
   "source": [
    "o_weights = np.load(\"./v2_weights/o_weights.npy\")\n",
    "o_bias = np.load(\"./v2_weights/o_bias.npy\")\n",
    "h_weights = np.load(\"./v2_weights/h_weights.npy\")\n",
    "h_bias = np.load(\"./v2_weights/h_bias.npy\")"
   ]
  },
  {
   "cell_type": "code",
   "execution_count": 40,
   "metadata": {},
   "outputs": [],
   "source": [
    "hnum, inum = h_weights.shape\n",
    "onum, _ = o_weights.shape\n",
    "\n",
    "nn2 = NeuralNetwork(inum, hnum, onum)\n",
    "nn2.set_params(o_weights, o_bias, h_weights, h_bias)"
   ]
  },
  {
   "cell_type": "code",
   "execution_count": 41,
   "metadata": {},
   "outputs": [
    {
     "name": "stdout",
     "output_type": "stream",
     "text": [
      "2\n",
      "3\n",
      "1\n",
      "2\n",
      "3\n",
      "1\n"
     ]
    }
   ],
   "source": [
    "for i in range(2,8):\n",
    "  img_path = './samples/'+str(i)+'.png'\n",
    "  img = cv2.imread(img_path, cv2.IMREAD_GRAYSCALE)\n",
    "  img = np.array(img)/255.0\n",
    "  inputs2 = img.reshape(-1,1)\n",
    "\n",
    "  predicted = nn2.predict(inputs2)\n",
    "\n",
    "  print(predicted+1)"
   ]
  },
  {
   "cell_type": "code",
   "execution_count": 42,
   "metadata": {},
   "outputs": [
    {
     "name": "stdout",
     "output_type": "stream",
     "text": [
      "Accuracy is :  96.13259668508287  %\n"
     ]
    }
   ],
   "source": [
    "prediction_list = []\n",
    "for i in range(X_test.shape[0]): \n",
    "    inputs = np.array(X_test[i].reshape(-1,1))\n",
    "    prediction_list.append(nn2.predict(inputs))\n",
    "\n",
    "correct_counter = 0\n",
    "for i in range(len(prediction_list)):\n",
    "    \n",
    "    if y_test[i] == prediction_list[i]:\n",
    "        correct_counter+=1\n",
    "\n",
    "accuracy = correct_counter/len(y_test)\n",
    "\n",
    "print(\"Accuracy is : \",accuracy*100,\" %\")"
   ]
  }
 ],
 "metadata": {
  "kernelspec": {
   "display_name": "Python 3.12.0 64-bit",
   "language": "python",
   "name": "python3"
  },
  "language_info": {
   "codemirror_mode": {
    "name": "ipython",
    "version": 3
   },
   "file_extension": ".py",
   "mimetype": "text/x-python",
   "name": "python",
   "nbconvert_exporter": "python",
   "pygments_lexer": "ipython3",
   "version": "3.12.0"
  },
  "orig_nbformat": 4,
  "vscode": {
   "interpreter": {
    "hash": "aee8b7b246df8f9039afb4144a1f6fd8d2ca17a180786b69acc140d282b71a49"
   }
  }
 },
 "nbformat": 4,
 "nbformat_minor": 2
}
