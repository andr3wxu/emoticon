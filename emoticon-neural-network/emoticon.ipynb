{
 "cells": [
  {
   "cell_type": "code",
   "execution_count": 58,
   "metadata": {},
   "outputs": [],
   "source": [
    "import numpy as np\n",
    "import matplotlib.pyplot as plt\n",
    "import math\n",
    "import cv2\n",
    "import os\n",
    "from sklearn.model_selection import train_test_split\n",
    "from sklearn.preprocessing import LabelEncoder"
   ]
  },
  {
   "cell_type": "code",
   "execution_count": 59,
   "metadata": {},
   "outputs": [],
   "source": [
    "path = \"./datasets\"\n",
    "classes = os.listdir(path)\n",
    "\n",
    "images = []\n",
    "labels = []\n",
    "\n",
    "for class_ in classes:\n",
    "  class_path = os.path.join(path, class_)\n",
    "  for file in os.listdir(class_path):\n",
    "    img_path = os.path.join(class_path, file)\n",
    "    img = cv2.imread(img_path, cv2.IMREAD_GRAYSCALE)\n",
    "    images.append(img)\n",
    "    labels.append(class_)\n",
    "\n",
    "images = np.array(images) / 255.0\n",
    "\n",
    "label_encoder = LabelEncoder()\n",
    "encoded_labels = label_encoder.fit_transform(labels)\n",
    "\n",
    "X_train, X_test, y_train_temp, y_test = train_test_split(images, encoded_labels, test_size=0.2, random_state=41)\n",
    "y_train = np.zeros((len(y_train_temp), 3))\n",
    "y_train[np.arange(0, len(y_train)), y_train_temp[:len(y_train)]]=1"
   ]
  },
  {
   "cell_type": "code",
   "execution_count": 60,
   "metadata": {},
   "outputs": [],
   "source": [
    "def activation(x,):\n",
    "  return 1/(1 + np.exp(-x))\n",
    "\n",
    "def activation_deriv(x):\n",
    "  return x *(1 - x)"
   ]
  },
  {
   "cell_type": "code",
   "execution_count": 61,
   "metadata": {},
   "outputs": [],
   "source": [
    "def cost(predicted, desired):\n",
    "  return np.average((desired-predicted)**2)"
   ]
  },
  {
   "cell_type": "code",
   "execution_count": 62,
   "metadata": {},
   "outputs": [],
   "source": [
    "class NeuralNetwork() :\n",
    "    def __init__ (self, inum , hnum, onum):\n",
    "        self.inum = inum\n",
    "        self.hnum = hnum\n",
    "        self.onum = onum\n",
    "        self.learning_rate = 0.0125\n",
    "\n",
    "        self.o_weights = np.random.randn(onum,hnum)\n",
    "        self.o_bias = np.zeros([onum,1])\n",
    "        self.h_weights = np.random.randn(hnum,inum)\n",
    "        self.h_bias = np.zeros([hnum,1])\n",
    "        \n",
    "        self.cost = []\n",
    "\n",
    "    def set_params(self,  o_weights, o_bias, h_weights, h_bias):\n",
    "        self.o_weights = o_weights\n",
    "        self.o_bias = o_bias\n",
    "        self.h_weights = h_weights\n",
    "        self.h_bias = h_bias\n",
    "\n",
    "    def train(self, inputs, desired):\n",
    "        h_in = np.dot(self.h_weights, inputs) + self.h_bias\n",
    "        h = activation(h_in)\n",
    "\n",
    "        o_in = np.dot(self.o_weights, h) + self.o_bias\n",
    "        predicted = activation(o_in)\n",
    "\n",
    "        self.o_weights -= 2*(predicted-desired)*activation_deriv(predicted).dot(h.T)*self.learning_rate\n",
    "        self.h_weights -= ((((2*(predicted-desired)*activation_deriv(predicted)).T.dot(self.o_weights)).T*activation_deriv(h)).dot(inputs.T))*self.learning_rate\n",
    "\n",
    "        self.o_bias -= np.sum(2*(predicted-desired)*activation_deriv(predicted), axis=0, keepdims=True) * self.learning_rate\n",
    "        self.h_bias -= np.sum(((2*(predicted-desired)*activation_deriv(predicted)).T.dot(self.o_weights)).T*activation_deriv(h), axis=0, keepdims=True) * self.learning_rate\n",
    "\n",
    "        self.cost.append(cost(predicted, desired))\n",
    "    \n",
    "    def get_cost(self):\n",
    "        return self.cost[len(self.cost) - 1]\n",
    "\n",
    "    def predict(self, inputs):\n",
    "        h_in = np.dot(self.h_weights, inputs) + self.h_bias\n",
    "        h = activation(h_in)\n",
    "\n",
    "        o_in = np.dot(self.o_weights, h) + self.o_bias\n",
    "        predicted = activation(o_in)\n",
    "\n",
    "        predicted = predicted.reshape(1,-1)\n",
    "        predicted = predicted[0]\n",
    "\n",
    "        max = 0\n",
    "        for i in range(len(predicted)):\n",
    "          if predicted[i] > predicted[max]:\n",
    "            max = i\n",
    "\n",
    "        return max"
   ]
  },
  {
   "cell_type": "code",
   "execution_count": 63,
   "metadata": {},
   "outputs": [
    {
     "name": "stdout",
     "output_type": "stream",
     "text": [
      "0.30551633208086165\n",
      "Accuracy is :  46.408839779005525  %\n",
      "0.15919038748891226\n",
      "Accuracy is :  54.14364640883977  %\n",
      "0.12182774480079855\n",
      "Accuracy is :  62.430939226519335  %\n",
      "0.0933623658363313\n",
      "Accuracy is :  66.29834254143645  %\n",
      "0.06977427897654136\n",
      "Accuracy is :  67.95580110497238  %\n",
      "0.05282950767431482\n",
      "Accuracy is :  71.8232044198895  %\n",
      "0.04258430768210073\n",
      "Accuracy is :  74.03314917127072  %\n",
      "0.03639468272821452\n",
      "Accuracy is :  75.13812154696133  %\n",
      "0.03217668377451428\n",
      "Accuracy is :  77.34806629834254  %\n",
      "0.029420221480336222\n",
      "Accuracy is :  77.90055248618785  %\n",
      "0.027621080305083607\n",
      "Accuracy is :  78.45303867403315  %\n",
      "0.026588725718169143\n",
      "Accuracy is :  77.34806629834254  %\n",
      "0.02596938988839309\n",
      "Accuracy is :  78.45303867403315  %\n",
      "0.025020174393812416\n",
      "Accuracy is :  78.45303867403315  %\n",
      "0.024248455438358296\n",
      "Accuracy is :  78.45303867403315  %\n",
      "0.023792429301639745\n",
      "Accuracy is :  78.45303867403315  %\n",
      "0.02303279116402182\n",
      "Accuracy is :  80.66298342541437  %\n",
      "0.02219026939490303\n",
      "Accuracy is :  80.11049723756905  %\n",
      "0.021639681186572373\n",
      "Accuracy is :  80.11049723756905  %\n",
      "0.021493918243968207\n",
      "Accuracy is :  79.00552486187846  %\n",
      "0.021342394081684427\n",
      "Accuracy is :  78.45303867403315  %\n",
      "0.021040233749862164\n",
      "Accuracy is :  79.00552486187846  %\n",
      "0.020887066494118756\n",
      "Accuracy is :  79.00552486187846  %\n",
      "0.021042214967160994\n",
      "Accuracy is :  79.55801104972376  %\n",
      "0.021630146155974733\n",
      "Accuracy is :  80.11049723756905  %\n",
      "0.022434060841002548\n",
      "Accuracy is :  80.66298342541437  %\n",
      "0.02291486352955906\n",
      "Accuracy is :  81.21546961325967  %\n",
      "0.02317936080578022\n",
      "Accuracy is :  81.21546961325967  %\n",
      "0.023375942594472426\n",
      "Accuracy is :  80.66298342541437  %\n",
      "0.023784105348426576\n",
      "Accuracy is :  81.21546961325967  %\n",
      "0.024323616036710766\n",
      "Accuracy is :  82.32044198895028  %\n",
      "0.024540283360793527\n",
      "Accuracy is :  82.32044198895028  %\n",
      "0.02462733123566319\n",
      "Accuracy is :  82.32044198895028  %\n",
      "0.024617365224949343\n",
      "Accuracy is :  82.87292817679558  %\n",
      "0.024490024417267175\n",
      "Accuracy is :  82.87292817679558  %\n",
      "0.024268145800643015\n",
      "Accuracy is :  83.42541436464089  %\n",
      "0.024012134001285195\n",
      "Accuracy is :  82.87292817679558  %\n",
      "0.023768639250797075\n",
      "Accuracy is :  82.87292817679558  %\n",
      "0.023557160753993417\n",
      "Accuracy is :  82.87292817679558  %\n",
      "0.023375771974661275\n",
      "Accuracy is :  83.42541436464089  %\n",
      "0.023212176699700705\n",
      "Accuracy is :  83.42541436464089  %\n",
      "0.02305612163580575\n",
      "Accuracy is :  84.5303867403315  %\n",
      "0.02289118678594682\n",
      "Accuracy is :  84.5303867403315  %\n",
      "0.022692120519645264\n",
      "Accuracy is :  84.5303867403315  %\n",
      "0.022443446478843092\n",
      "Accuracy is :  84.5303867403315  %\n",
      "0.022145172554236953\n",
      "Accuracy is :  84.5303867403315  %\n",
      "0.021802667530303726\n",
      "Accuracy is :  84.5303867403315  %\n",
      "0.021421542233304235\n",
      "Accuracy is :  83.97790055248619  %\n",
      "0.02100992880425887\n",
      "Accuracy is :  83.97790055248619  %\n",
      "0.02058017505310288\n",
      "Accuracy is :  83.97790055248619  %\n"
     ]
    }
   ],
   "source": [
    "nn=NeuralNetwork(900, 35, 3)\n",
    "\n",
    "def train_predict(iterations):\n",
    "  for i in range(iterations):\n",
    "    for i in range(X_train.shape[0]):\n",
    "      inputs = np.array(X_train[i, :].reshape(-1,1))\n",
    "      desired_output = np.array(y_train[i, :].reshape(-1,1))\n",
    "      nn.train(inputs, desired_output)\n",
    "    print(nn.get_cost())\n",
    "    prediction_list = []\n",
    "    for i in range(X_test.shape[0]): \n",
    "        inputs = np.array(X_test[i].reshape(-1,1))\n",
    "        prediction_list.append(nn.predict(inputs))\n",
    "\n",
    "    correct_counter = 0\n",
    "    for i in range(len(prediction_list)):\n",
    "        \n",
    "        if y_test[i] == prediction_list[i]:\n",
    "            correct_counter+=1\n",
    "\n",
    "    accuracy = correct_counter/len(y_test)\n",
    "\n",
    "    print(\"Accuracy is : \",accuracy*100,\" %\")\n",
    "\n",
    "train_predict(50)"
   ]
  },
  {
   "cell_type": "code",
   "execution_count": 64,
   "metadata": {},
   "outputs": [
    {
     "name": "stdout",
     "output_type": "stream",
     "text": [
      "2\n",
      "3\n",
      "1\n",
      "2\n",
      "3\n",
      "1\n"
     ]
    }
   ],
   "source": [
    "for i in range(2,8):\n",
    "  img_path = './samples/'+str(i)+'.png'\n",
    "  img = cv2.imread(img_path, cv2.IMREAD_GRAYSCALE)\n",
    "  img = np.array(img)/255.0\n",
    "  inputs2 = img.reshape(-1,1)\n",
    "\n",
    "  predicted = nn.predict(inputs2)\n",
    "\n",
    "  print(predicted+1)\n",
    "\n",
    "# img = cv2.threshold(img, 100, 255, cv2.THRESH_BINARY)[1]"
   ]
  },
  {
   "cell_type": "code",
   "execution_count": 65,
   "metadata": {},
   "outputs": [],
   "source": [
    "# np.save(\"./v3_weights/o_weights\", nn.o_weights)\n",
    "# np.save(\"./v3_weights/h_weights\", nn.h_weights)\n",
    "# np.save(\"./v3_weights/o_bias\", nn.o_bias)\n",
    "# np.save(\"./v3_weights/h_bias\", nn.h_bias)"
   ]
  },
  {
   "cell_type": "markdown",
   "metadata": {},
   "source": [
    "# Upload weights"
   ]
  },
  {
   "cell_type": "code",
   "execution_count": 66,
   "metadata": {},
   "outputs": [],
   "source": [
    "o_weights = np.load(\"./v2_weights/o_weights.npy\")\n",
    "o_bias = np.load(\"./v2_weights/o_bias.npy\")\n",
    "h_weights = np.load(\"./v2_weights/h_weights.npy\")\n",
    "h_bias = np.load(\"./v2_weights/h_bias.npy\")"
   ]
  },
  {
   "cell_type": "code",
   "execution_count": 67,
   "metadata": {},
   "outputs": [],
   "source": [
    "hnum, inum = h_weights.shape\n",
    "onum, _ = o_weights.shape\n",
    "\n",
    "nn2 = NeuralNetwork(inum, hnum, onum)\n",
    "nn2.set_params(o_weights, o_bias, h_weights, h_bias)"
   ]
  },
  {
   "cell_type": "code",
   "execution_count": 68,
   "metadata": {},
   "outputs": [
    {
     "name": "stdout",
     "output_type": "stream",
     "text": [
      "2\n",
      "3\n",
      "1\n",
      "2\n",
      "3\n",
      "1\n"
     ]
    }
   ],
   "source": [
    "for i in range(2,8):\n",
    "  img_path = './samples/'+str(i)+'.png'\n",
    "  img = cv2.imread(img_path, cv2.IMREAD_GRAYSCALE)\n",
    "  img = np.array(img)/255.0\n",
    "  inputs2 = img.reshape(-1,1)\n",
    "\n",
    "  predicted = nn2.predict(inputs2)\n",
    "\n",
    "  print(predicted+1)"
   ]
  },
  {
   "cell_type": "code",
   "execution_count": 69,
   "metadata": {},
   "outputs": [
    {
     "name": "stdout",
     "output_type": "stream",
     "text": [
      "Accuracy is :  96.13259668508287  %\n"
     ]
    }
   ],
   "source": [
    "prediction_list = []\n",
    "for i in range(X_test.shape[0]): \n",
    "    inputs = np.array(X_test[i].reshape(-1,1))\n",
    "    prediction_list.append(nn2.predict(inputs))\n",
    "\n",
    "correct_counter = 0\n",
    "for i in range(len(prediction_list)):\n",
    "    \n",
    "    if y_test[i] == prediction_list[i]:\n",
    "        correct_counter+=1\n",
    "\n",
    "accuracy = correct_counter/len(y_test)\n",
    "\n",
    "print(\"Accuracy is : \",accuracy*100,\" %\")"
   ]
  }
 ],
 "metadata": {
  "kernelspec": {
   "display_name": "Python 3.12.0 64-bit",
   "language": "python",
   "name": "python3"
  },
  "language_info": {
   "codemirror_mode": {
    "name": "ipython",
    "version": 3
   },
   "file_extension": ".py",
   "mimetype": "text/x-python",
   "name": "python",
   "nbconvert_exporter": "python",
   "pygments_lexer": "ipython3",
   "version": "3.12.0"
  },
  "orig_nbformat": 4,
  "vscode": {
   "interpreter": {
    "hash": "aee8b7b246df8f9039afb4144a1f6fd8d2ca17a180786b69acc140d282b71a49"
   }
  }
 },
 "nbformat": 4,
 "nbformat_minor": 2
}
